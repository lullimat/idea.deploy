{
 "cells": [
  {
   "cell_type": "code",
   "execution_count": 2,
   "id": "a1c2ed00",
   "metadata": {
    "code_folding": [
     0
    ]
   },
   "outputs": [],
   "source": [
    "# Copyright notice\n",
    "__author__ = \"Matteo Lulli\"\n",
    "__copyright__ = \"Copyright (c) 2020-2021 Matteo Lulli (lullimat/idea.deploy), matteo.lulli@gmail.com\"\n",
    "__credits__ = [\"Matteo Lulli\"]\n",
    "__license__ = \"\"\"                                                                                                                                        \n",
    "Permission is hereby granted, free of charge, to any person obtaining a copy                                                                             \n",
    "of this software and associated documentation files (the \"Software\"), to deal                                                                            \n",
    "in the Software without restriction, including without limitation the rights                                                                             \n",
    "to use, copy, modify, merge, publish, distribute, sublicense, and/or sell                                                                                \n",
    "copies of the Software, and to permit persons to whom the Software is                                                                                    \n",
    "furnished to do so, subject to the following conditions:                                                                                                 \n",
    "                                                                                                                                                         \n",
    "The above copyright notice and this permission notice shall be included in all                                                                           \n",
    "copies or substantial portions of the Software.                                                                                                          \n",
    "                                                                                                                                                         \n",
    "THE SOFTWARE IS PROVIDED \"AS IS\", WITHOUT WARRANTY OF ANY KIND, EXPRESS OR                                                                               \n",
    "IMPLIED, INCLUDING BUT NOT LIMITED TO THE WARRANTIES OF MERCHANTABILITY,                                                                                 \n",
    "FITNESS FOR A PARTICULAR PURPOSE AND NONINFRINGEMENT. IN NO EVENT SHALL THE                                                                              \n",
    "AUTHORS OR COPYRIGHT HOLDERS BE LIABLE FOR ANY CLAIM, DAMAGES OR OTHER                                                                                   \n",
    "LIABILITY, WHETHER IN AN ACTION OF CONTRACT, TORT OR OTHERWISE, ARISING FROM,                                                                            \n",
    "OUT OF OR IN CONNECTION WITH THE SOFTWARE OR THE USE OR OTHER DEALINGS IN THE                                                                            \n",
    "SOFTWARE.                                                                                                                                                \n",
    "\"\"\"\n",
    "__version__ = \"0.1\"\n",
    "__maintainer__ = \"Matteo Lulli\"\n",
    "__email__ = \"matteo.lulli@gmail.com\"\n",
    "__status__ = \"Development\""
   ]
  },
  {
   "cell_type": "markdown",
   "id": "15e0f1df",
   "metadata": {},
   "source": [
    "# Tutorial: Two-dimensional Ising Model"
   ]
  },
  {
   "cell_type": "markdown",
   "id": "6bf67d39",
   "metadata": {},
   "source": [
    "Welcome to this tutorial on how to build a module for the two-dimensional Ising model using the *root* classes of the **idea.deploy** framework.\n",
    "\n",
    "This tutorial will guide you in a step-by-step way into the process of developing a Metropolis Monte Carlo simulation for the two-dimensional Ising model. This will be done with different degrees of complication\n",
    "\n",
    "- starting first from a simple implementation where spin variables are represented by a signed integer (```int```), \n",
    "- then shifting to using unsigned chars (```unsigned char```), and \n",
    "- finally land on an asynchronous-multi-spin-coded (aMSC) implementation where the spin variables will be stored in the bits of unsigned integers (```unsigned int``` or ```unsigned``` according to the architecture) and will be updated in parallel. \n",
    "\n",
    "The last step allows for roughly a 32-fold factor gain in performance with respect to the simples signed integer representation since we will be simulating 32 systems in paraller. This is done at the cost of introducing a small correlation between different realizations of the system. At the same time, this process will allow to have a faster convergence of the statistical analysis.\n",
    "\n",
    "During this process we will shift strategy for the memory addressing going from a straightforward geometrical implementation which will then evolve to a checkerboard separation and finally end in a **sliced** scheme which allows for a better alignement of the memory reads while halving the number of MPI memory transfers in the multi-process implementation.\n",
    "\n",
    "We will be measuring the performance differences with the built-in tools of the **idea.deploy** framework and also develop some standard statistical analysis tools along the way.\n",
    "\n",
    "This tutorial is clearly *physics-oriented* and serves the double purpose of illustrating the functionalities of the framework while being *educational* as far as the two-dimensional Ising model and simple statistical analysis are concerned.\n",
    "\n",
    "I will be constantly pushing updates on the *develop* branch of this project so that the last version can simply be retreived by constantly pulling the modifications to the repository.\n",
    "\n",
    "I will also keep the tutorial finely grained in such a way that each subsection is self-consistent with each new class being a copy of the previous one and simply distinguished by a ```V#``` suffix."
   ]
  },
  {
   "cell_type": "code",
   "execution_count": 22,
   "id": "56fb8fc0",
   "metadata": {},
   "outputs": [],
   "source": [
    "# Import Statements\n",
    "\n",
    "'''\n",
    "Appending the root directory of the idea.deploy project.\n",
    "This is done explicitly here. \n",
    "In the modules this is done in the local __init__.py file\n",
    "'''\n",
    "import sys\n",
    "sys.path.append(\"../../\")\n",
    "\n",
    "'''\n",
    "Importing languages types\n",
    "'''\n",
    "from idpy.IdpyCode import CUDA_T, OCL_T, IDPY_T\n",
    "\n",
    "'''\n",
    "Importing the congruential pseudo-random number generators\n",
    "'''\n",
    "from idpy.PRNGS.CRNGS import CRNGS\n"
   ]
  },
  {
   "cell_type": "code",
   "execution_count": 23,
   "id": "9cadf26c",
   "metadata": {},
   "outputs": [
    {
     "name": "stdout",
     "output_type": "stream",
     "text": [
      "OpenCL:  Device: 0 Apple M1 Memory:17179869184\n",
      "uint32\n"
     ]
    }
   ],
   "source": [
    "_test_crng = CRNGS(lang = OCL_T, cl_kind = 'cpu', n_prngs = 2 ** 7)"
   ]
  },
  {
   "cell_type": "code",
   "execution_count": 24,
   "id": "632dd083",
   "metadata": {},
   "outputs": [
    {
     "ename": "TypeError",
     "evalue": "string indices must be integers",
     "output_type": "error",
     "traceback": [
      "\u001b[0;31m---------------------------------------------------------------------------\u001b[0m",
      "\u001b[0;31mTypeError\u001b[0m                                 Traceback (most recent call last)",
      "\u001b[0;32m<ipython-input-24-94326ae3a4f4>\u001b[0m in \u001b[0;36m<module>\u001b[0;34m\u001b[0m\n\u001b[0;32m----> 1\u001b[0;31m \u001b[0m_test_crng\u001b[0m\u001b[0;34m.\u001b[0m\u001b[0mNorm\u001b[0m\u001b[0;34m(\u001b[0m\u001b[0mrand_type\u001b[0m \u001b[0;34m=\u001b[0m \u001b[0;34m'float'\u001b[0m\u001b[0;34m)\u001b[0m\u001b[0;34m\u001b[0m\u001b[0;34m\u001b[0m\u001b[0m\n\u001b[0m",
      "\u001b[0;32m~/github/idea.deploy/collabs/IsingModels/../../idpy/PRNGS/CRNGS.py\u001b[0m in \u001b[0;36mNorm\u001b[0;34m(self, reps, rand_type)\u001b[0m\n\u001b[1;32m    250\u001b[0m             \u001b[0mKernel\u001b[0m \u001b[0;32mfor\u001b[0m \u001b[0minitializing\u001b[0m \u001b[0mseeds\u001b[0m\u001b[0;34m\u001b[0m\u001b[0;34m\u001b[0m\u001b[0m\n\u001b[1;32m    251\u001b[0m             '''\n\u001b[0;32m--> 252\u001b[0;31m             _K_MINSTDSeedsFit = K_MINSTDSeedsFit(custom_types = self.custom_types.Push(),\n\u001b[0m\u001b[1;32m    253\u001b[0m                                                  \u001b[0mconstants\u001b[0m \u001b[0;34m=\u001b[0m \u001b[0mself\u001b[0m\u001b[0;34m.\u001b[0m\u001b[0mconstants\u001b[0m\u001b[0;34m,\u001b[0m\u001b[0;34m\u001b[0m\u001b[0;34m\u001b[0m\u001b[0m\n\u001b[1;32m    254\u001b[0m                                                  optimizer_flag = self.optimizer_flag)\n",
      "\u001b[0;32m~/github/idea.deploy/collabs/IsingModels/../../idpy/Utils/CustomTypes.py\u001b[0m in \u001b[0;36mSet\u001b[0;34m(self, new_dict)\u001b[0m\n\u001b[1;32m     48\u001b[0m     \u001b[0;32mdef\u001b[0m \u001b[0mSet\u001b[0m\u001b[0;34m(\u001b[0m\u001b[0mself\u001b[0m\u001b[0;34m,\u001b[0m \u001b[0mnew_dict\u001b[0m\u001b[0;34m)\u001b[0m\u001b[0;34m:\u001b[0m\u001b[0;34m\u001b[0m\u001b[0;34m\u001b[0m\u001b[0m\n\u001b[1;32m     49\u001b[0m         \u001b[0;32mfor\u001b[0m \u001b[0mkey\u001b[0m \u001b[0;32min\u001b[0m \u001b[0mnew_dict\u001b[0m\u001b[0;34m:\u001b[0m\u001b[0;34m\u001b[0m\u001b[0;34m\u001b[0m\u001b[0m\n\u001b[0;32m---> 50\u001b[0;31m             \u001b[0mself\u001b[0m\u001b[0;34m.\u001b[0m\u001b[0mtypes_dict\u001b[0m\u001b[0;34m[\u001b[0m\u001b[0mkey\u001b[0m\u001b[0;34m]\u001b[0m \u001b[0;34m=\u001b[0m \u001b[0mnew_dict\u001b[0m\u001b[0;34m[\u001b[0m\u001b[0mkey\u001b[0m\u001b[0;34m]\u001b[0m\u001b[0;34m\u001b[0m\u001b[0;34m\u001b[0m\u001b[0m\n\u001b[0m\u001b[1;32m     51\u001b[0m \u001b[0;34m\u001b[0m\u001b[0m\n\u001b[1;32m     52\u001b[0m     \u001b[0;32mdef\u001b[0m \u001b[0mPop\u001b[0m\u001b[0;34m(\u001b[0m\u001b[0mself\u001b[0m\u001b[0;34m,\u001b[0m \u001b[0mkey\u001b[0m\u001b[0;34m)\u001b[0m\u001b[0;34m:\u001b[0m\u001b[0;34m\u001b[0m\u001b[0;34m\u001b[0m\u001b[0m\n",
      "\u001b[0;31mTypeError\u001b[0m: string indices must be integers"
     ]
    }
   ],
   "source": [
    "_test_crng.Norm(rand_type = {'RANDType': 'float'})"
   ]
  },
  {
   "cell_type": "code",
   "execution_count": 6,
   "id": "328b36d1",
   "metadata": {},
   "outputs": [
    {
     "data": {
      "text/plain": [
       "cl.Array([1791095846], dtype=uint32)"
      ]
     },
     "execution_count": 6,
     "metadata": {},
     "output_type": "execute_result"
    }
   ],
   "source": [
    "_test_crng.sims_idpy_memory['seeds']"
   ]
  },
  {
   "cell_type": "code",
   "execution_count": 17,
   "id": "22c41079",
   "metadata": {},
   "outputs": [],
   "source": [
    "_test_crng.End()"
   ]
  },
  {
   "cell_type": "code",
   "execution_count": null,
   "id": "4990c50d",
   "metadata": {},
   "outputs": [],
   "source": []
  }
 ],
 "metadata": {
  "kernelspec": {
   "display_name": "idea.deploy",
   "language": "python",
   "name": "idpy-env"
  },
  "language_info": {
   "codemirror_mode": {
    "name": "ipython",
    "version": 3
   },
   "file_extension": ".py",
   "mimetype": "text/x-python",
   "name": "python",
   "nbconvert_exporter": "python",
   "pygments_lexer": "ipython3",
   "version": "3.9.6"
  },
  "toc": {
   "base_numbering": 1,
   "nav_menu": {},
   "number_sections": true,
   "sideBar": true,
   "skip_h1_title": false,
   "title_cell": "Table of Contents",
   "title_sidebar": "Contents",
   "toc_cell": false,
   "toc_position": {},
   "toc_section_display": true,
   "toc_window_display": true
  }
 },
 "nbformat": 4,
 "nbformat_minor": 5
}
